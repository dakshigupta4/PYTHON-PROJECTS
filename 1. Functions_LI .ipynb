{
 "cells": [
  {
   "cell_type": "markdown",
   "metadata": {
    "id": "-wiCLDyJz5GA"
   },
   "source": [
    "# Home-work :\n",
    "\n",
    "* Questions link : https://drive.google.com/file/d/13X5Y72bYYXor_NTBhEKkz8ABmv5HvfIw/view?usp=sharing "
   ]
  },
  {
   "cell_type": "code",
   "execution_count": null,
   "metadata": {
    "id": "cksiFPd3Plr0"
   },
   "outputs": [],
   "source": [
    "# A function is a block of code which only runs when it is called.\n",
    "\n",
    "# You can pass data, known as parameters, into a function.\n",
    "\n",
    "# A function can return data as a result."
   ]
  },
  {
   "cell_type": "markdown",
   "metadata": {
    "id": "Q-9mjClTmEQu"
   },
   "source": [
    "#Functions\n",
    "A function is a set of code that is placed inside a block and executes together. \n",
    "\n",
    "* A function is a block of code which runs only when called.\n",
    "* You can pass inputs to a function and get output from it too.\n",
    "\n",
    "####Define a function:\n",
    "* Specify what must be done by the function when called in a program.\n",
    " \n",
    "Syntax:\n",
    "\n",
    "```\n",
    "def function_Name(Params -- args, kwargs):\n",
    "    function block\n",
    "```\n",
    "```\n",
    "def FunctionName(Parameters):\n",
    "  code\n",
    "  code\n",
    "  code\n",
    "  return\n",
    "```\n",
    "####Calling a funtion:\n",
    "> Call a function when you need that function to be executed in the program.\n",
    "\n",
    "Syntax:\n",
    "\n",
    "```\n",
    "FunctionName(Arguments)\n",
    "```\n",
    "#### Parameters vs Arguments\n",
    "* **Parameters**:The variables that are defined in the funtion.\n",
    "* **Arguments**: The variables/values that are passed to the functions.\n",
    "\n",
    "Parameters are the names used when defining a function or a method, and into which arguments will be mapped. In other words, arguments are the things which are supplied to any function or method call, while the function or method code refers to the arguments by their parameter names.\n",
    "\n",
    "**Functions are used to:**\n",
    "1. Enhance code readability\n",
    "2. Increases code re-usability\n",
    "3. Reduce redundancy\n",
    "4. Helps in code organisation"
   ]
  },
  {
   "cell_type": "code",
   "execution_count": 6,
   "metadata": {},
   "outputs": [
    {
     "data": {
      "text/plain": [
       "1.9000405022276226"
      ]
     },
     "execution_count": 6,
     "metadata": {},
     "output_type": "execute_result"
    }
   ],
   "source": [
    "def add(a,b):\n",
    "  return a-b\n",
    "add(23456,12345)\n",
    "def add(a,b):\n",
    "  return a*b\n",
    "add(23456,12345)\n",
    "def add(a,b):\n",
    "  return a/b\n",
    "add(23456,12345)"
   ]
  },
  {
   "cell_type": "code",
   "execution_count": 1,
   "metadata": {},
   "outputs": [
    {
     "data": {
      "text/plain": [
       "4"
      ]
     },
     "execution_count": 1,
     "metadata": {},
     "output_type": "execute_result"
    }
   ],
   "source": [
    "def add(a,b):#a and b are parameters\n",
    "    return a+b\n",
    "add(1,3)#1 and 3 are arguments\n",
    "#sub,mul,div."
   ]
  },
  {
   "cell_type": "code",
   "execution_count": null,
   "metadata": {
    "colab": {
     "base_uri": "https://localhost:8080/"
    },
    "executionInfo": {
     "elapsed": 4,
     "status": "ok",
     "timestamp": 1624688459215,
     "user": {
      "displayName": "Somaraju LD",
      "photoUrl": "",
      "userId": "06442596576645839872"
     },
     "user_tz": -330
    },
    "id": "0A_6euph4tre",
    "outputId": "3a47eba9-2130-4e6d-bf4e-a97f0af6d48f"
   },
   "outputs": [
    {
     "name": "stdout",
     "output_type": "stream",
     "text": [
      "Hi, lakshmi durga\n"
     ]
    }
   ],
   "source": [
    "def greet(fname,lname):\n",
    "  print(f\"Hi, {fname} {lname}\")\n",
    "\n",
    "greet(\"lakshmi\", \"durga\")  # calling the function\n",
    "\n",
    "# here 'lakshmi', & 'durga' becomes atrributes\n",
    "# fname,lname are called as parameters "
   ]
  },
  {
   "cell_type": "markdown",
   "metadata": {
    "id": "zacqJOaX4t3N"
   },
   "source": [
    "There are three types of functions in Python:\n",
    "\n",
    "**Built-in functions**, such as help() to ask for help, min() to get the minimum value, print() to print an object to the terminal,… You can find an overview with more of these functions here.\n",
    "\n",
    "**User-Defined Functions** (UDFs), which are functions that users create to help them out; And\n",
    "\n",
    "**Anonymous functions**, which are also called lambda functions because they are not declared with the standard def keyword.\n",
    "\n",
    "**Functions vs Methods**\n",
    "\n",
    "A method refers to a function which is part of a class. You access it with an instance or object of the **class**. A function doesn’t have this restriction: it just refers to a standalone function. This means that all methods are functions, but not all functions are methods."
   ]
  },
  {
   "cell_type": "markdown",
   "metadata": {
    "id": "BtOQvMePtII7"
   },
   "source": [
    "***Rules of Functions***\n",
    "\n",
    "1. All functions can have multiple return statements. A function that fails to return anything returns ```None```\n",
    "2. Functions may have positional arguments and keyword arguments. Key word arguments must always be placed after the positional arguments\n",
    "3. Positional arguments may be placed in any order provided they are properly defined. "
   ]
  },
  {
   "cell_type": "code",
   "execution_count": 4,
   "metadata": {},
   "outputs": [
    {
     "name": "stdout",
     "output_type": "stream",
     "text": [
      "5\n",
      "None\n"
     ]
    }
   ],
   "source": [
    "def add(a,b):\n",
    "    print(a+b)\n",
    "print(add(2,3))"
   ]
  },
  {
   "cell_type": "code",
   "execution_count": 5,
   "metadata": {},
   "outputs": [
    {
     "name": "stdout",
     "output_type": "stream",
     "text": [
      "5\n"
     ]
    }
   ],
   "source": [
    "def add(a,b):\n",
    "    return a+b\n",
    "print(add(2,3))"
   ]
  },
  {
   "cell_type": "markdown",
   "metadata": {
    "id": "sLvONPkp6kpt"
   },
   "source": [
    "#### **print()** vs **return** :\n",
    "\n",
    "* print() statement in function - will perform the task & **prints the output** in the screen, every time we call the function\n",
    "\n",
    "* return keyword will performs a calculation & **store the values**, when we print(func()) then only it will print the value stored in return."
   ]
  },
  {
   "cell_type": "code",
   "execution_count": null,
   "metadata": {
    "colab": {
     "base_uri": "https://localhost:8080/"
    },
    "executionInfo": {
     "elapsed": 11,
     "status": "ok",
     "timestamp": 1639378854661,
     "user": {
      "displayName": "Akshita Jain",
      "photoUrl": "https://lh3.googleusercontent.com/a-/AOh14GhRl4QbaRHRJmTQyBqVdXmet36llHYFgx9IQdVmtg=s64",
      "userId": "15547845487896249647"
     },
     "user_tz": -330
    },
    "id": "buh2zi2Ji8W2",
    "outputId": "168f1975-4c60-4c48-9fca-6af24bdbb27e"
   },
   "outputs": [
    {
     "name": "stdout",
     "output_type": "stream",
     "text": [
      "Hi, lakshmi durga\n"
     ]
    }
   ],
   "source": [
    "def greet(fname,lname):\n",
    "  return f\"Hi, {fname} {lname}\"\n",
    "\n",
    "print(greet(\"lakshmi\", \"durga\"))"
   ]
  },
  {
   "cell_type": "code",
   "execution_count": 6,
   "metadata": {
    "colab": {
     "base_uri": "https://localhost:8080/"
    },
    "executionInfo": {
     "elapsed": 16,
     "status": "ok",
     "timestamp": 1639551594637,
     "user": {
      "displayName": "Akshita Jain",
      "photoUrl": "https://lh3.googleusercontent.com/a-/AOh14GhRl4QbaRHRJmTQyBqVdXmet36llHYFgx9IQdVmtg=s64",
      "userId": "15547845487896249647"
     },
     "user_tz": -330
    },
    "id": "XWHXCsJ54s0U",
    "outputId": "945802b4-bfcc-48fe-e1cb-9923f32a5857"
   },
   "outputs": [
    {
     "name": "stdout",
     "output_type": "stream",
     "text": [
      "2\n"
     ]
    }
   ],
   "source": [
    "def mul(x,y):\n",
    "\tif(y == 0):\n",
    "\t\treturn 0\n",
    "\tif(y > 0 ):\n",
    "\t\treturn 1\n",
    "\tif(y < 0 ):\n",
    "\t\treturn 2\n",
    "print(mul(7, -3))"
   ]
  },
  {
   "cell_type": "code",
   "execution_count": null,
   "metadata": {
    "colab": {
     "base_uri": "https://localhost:8080/",
     "height": 36
    },
    "executionInfo": {
     "elapsed": 18,
     "status": "ok",
     "timestamp": 1639744289291,
     "user": {
      "displayName": "Akshita Jain",
      "photoUrl": "https://lh3.googleusercontent.com/a-/AOh14GhRl4QbaRHRJmTQyBqVdXmet36llHYFgx9IQdVmtg=s64",
      "userId": "15547845487896249647"
     },
     "user_tz": -330
    },
    "id": "UUfDHUVycyYT",
    "outputId": "c2172697-4b74-4c98-fe76-eded2a32728b"
   },
   "outputs": [
    {
     "data": {
      "application/vnd.google.colaboratory.intrinsic+json": {
       "type": "string"
      },
      "text/plain": [
       "'Hello!'"
      ]
     },
     "execution_count": 8,
     "metadata": {},
     "output_type": "execute_result"
    }
   ],
   "source": [
    "def Greet():\n",
    " return \"Hello!\"\n",
    "Greet()\n"
   ]
  },
  {
   "cell_type": "code",
   "execution_count": null,
   "metadata": {
    "colab": {
     "base_uri": "https://localhost:8080/"
    },
    "executionInfo": {
     "elapsed": 424,
     "status": "ok",
     "timestamp": 1639740404098,
     "user": {
      "displayName": "Akshita Jain",
      "photoUrl": "https://lh3.googleusercontent.com/a-/AOh14GhRl4QbaRHRJmTQyBqVdXmet36llHYFgx9IQdVmtg=s64",
      "userId": "15547845487896249647"
     },
     "user_tz": -330
    },
    "id": "ZONRFjZ99izN",
    "outputId": "357b5fc0-3ce0-4e33-fc62-fae6799bf469"
   },
   "outputs": [
    {
     "name": "stdout",
     "output_type": "stream",
     "text": [
      "Hello!\n",
      "Hello!\n"
     ]
    }
   ],
   "source": [
    "def Greet():\n",
    "  return \"Hello!\"\n",
    "\n",
    "Greet()\n",
    "a = Greet()\n",
    "print(Greet())\n",
    "print(a)\n"
   ]
  },
  {
   "cell_type": "code",
   "execution_count": 4,
   "metadata": {
    "colab": {
     "base_uri": "https://localhost:8080/",
     "height": 36
    },
    "executionInfo": {
     "elapsed": 395,
     "status": "ok",
     "timestamp": 1639744371358,
     "user": {
      "displayName": "Akshita Jain",
      "photoUrl": "https://lh3.googleusercontent.com/a-/AOh14GhRl4QbaRHRJmTQyBqVdXmet36llHYFgx9IQdVmtg=s64",
      "userId": "15547845487896249647"
     },
     "user_tz": -330
    },
    "id": "dP1mK_XUbA52",
    "outputId": "8fa54022-6d5e-49df-c072-8915ae103a27"
   },
   "outputs": [
    {
     "name": "stdout",
     "output_type": "stream",
     "text": [
      "Joe Biden\n"
     ]
    }
   ],
   "source": [
    "def PrintFullName(FirstName,LastName):\n",
    "  FullName = FirstName +\" \" + LastName\n",
    "  return FullName\n",
    "\n",
    "# a = \"John\"\n",
    "# b = \"Wesley\"\n",
    "# d = PrintFullName(a,b)\n",
    "\n",
    "c=PrintFullName('Joe','Biden')\n",
    "\n",
    "print(c)    # when we write print() only it prints the value stored in return\n",
    "# print(d)"
   ]
  },
  {
   "cell_type": "code",
   "execution_count": 1,
   "metadata": {
    "colab": {
     "base_uri": "https://localhost:8080/"
    },
    "executionInfo": {
     "elapsed": 490,
     "status": "ok",
     "timestamp": 1624688655943,
     "user": {
      "displayName": "Somaraju LD",
      "photoUrl": "",
      "userId": "06442596576645839872"
     },
     "user_tz": -330
    },
    "id": "0UOHz0LoWfSA",
    "outputId": "9a15c761-9d99-42c4-ec54-dff030e8ed03"
   },
   "outputs": [
    {
     "name": "stdout",
     "output_type": "stream",
     "text": [
      "The area of the circle is 314.2857142857143 \n"
     ]
    }
   ],
   "source": [
    "def area_of_circle(radius, pi = 22/7):\n",
    "    print(f\"The area of the circle is {(radius ** 2) * pi} \")\n",
    "\n",
    "area_of_circle(10)  # calling the function"
   ]
  },
  {
   "cell_type": "code",
   "execution_count": null,
   "metadata": {},
   "outputs": [],
   "source": []
  },
  {
   "cell_type": "code",
   "execution_count": 3,
   "metadata": {
    "colab": {
     "base_uri": "https://localhost:8080/",
     "height": 36
    },
    "executionInfo": {
     "elapsed": 391,
     "status": "ok",
     "timestamp": 1639744455148,
     "user": {
      "displayName": "Akshita Jain",
      "photoUrl": "https://lh3.googleusercontent.com/a-/AOh14GhRl4QbaRHRJmTQyBqVdXmet36llHYFgx9IQdVmtg=s64",
      "userId": "15547845487896249647"
     },
     "user_tz": -330
    },
    "id": "yQMZnmnktUB1",
    "outputId": "632a8326-e610-4a2f-c0a5-1ad9eefb5708"
   },
   "outputs": [
    {
     "data": {
      "text/plain": [
       "'lakshmi is 18 years old'"
      ]
     },
     "execution_count": 3,
     "metadata": {},
     "output_type": "execute_result"
    }
   ],
   "source": [
    "def age(current,yob, name):\n",
    "#yob and current are positional arguments\n",
    "#name is a keyword argument\n",
    "  age = current-yob\n",
    "  return f\"{name} is {age} years old\"\n",
    "age(2023, 2005, 'lakshmi')"
   ]
  },
  {
   "cell_type": "code",
   "execution_count": 2,
   "metadata": {
    "colab": {
     "base_uri": "https://localhost:8080/",
     "height": 35
    },
    "executionInfo": {
     "elapsed": 922,
     "status": "ok",
     "timestamp": 1614863738747,
     "user": {
      "displayName": "Somaraju LD",
      "photoUrl": "",
      "userId": "06442596576645839872"
     },
     "user_tz": -330
    },
    "id": "vEjYE-AstoIz",
    "outputId": "b2d503f2-0957-48ea-cf10-6ee17fb217b7"
   },
   "outputs": [
    {
     "name": "stdout",
     "output_type": "stream",
     "text": [
      "Grow up first\n"
     ]
    }
   ],
   "source": [
    "def agecalc(age):\n",
    "  if age>=18:\n",
    "    return (\"You are an adult\")\n",
    "  else:\n",
    "    return (\"Grow up first\")\n",
    "\n",
    "print(agecalc(11))"
   ]
  },
  {
   "cell_type": "code",
   "execution_count": null,
   "metadata": {
    "colab": {
     "base_uri": "https://localhost:8080/"
    },
    "executionInfo": {
     "elapsed": 8,
     "status": "ok",
     "timestamp": 1639744544062,
     "user": {
      "displayName": "Akshita Jain",
      "photoUrl": "https://lh3.googleusercontent.com/a-/AOh14GhRl4QbaRHRJmTQyBqVdXmet36llHYFgx9IQdVmtg=s64",
      "userId": "15547845487896249647"
     },
     "user_tz": -330
    },
    "id": "esTfVqaVv-mR",
    "outputId": "41af3128-559b-4659-cc28-54dffb8f4fee"
   },
   "outputs": [
    {
     "name": "stdout",
     "output_type": "stream",
     "text": [
      "15\n",
      "invalid input\n"
     ]
    }
   ],
   "source": [
    "#SimpleCalculator\n",
    "def calc(a, b, op):\n",
    "  if op==\"add\":\n",
    "    t = a+b\n",
    "    return t\n",
    "  elif op==\"sub\":\n",
    "    t = a-b\n",
    "    return t\n",
    "  elif op==\"mul\":\n",
    "    t = a*b\n",
    "    return t\n",
    "  elif op==\"div\":\n",
    "    t = a/b\n",
    "    return t\n",
    "  else:\n",
    "    return \"invalid input\"\n",
    "\n",
    "print(calc(10,5,\"add\") )  # calling a function with therequired  arguments(i.e a,b,op )\n",
    "\n",
    "print(calc(10,5,\"subbjk\") )"
   ]
  },
  {
   "cell_type": "code",
   "execution_count": 7,
   "metadata": {},
   "outputs": [
    {
     "name": "stdout",
     "output_type": "stream",
     "text": [
      "15\n",
      "None\n"
     ]
    }
   ],
   "source": [
    "def calc(a,b,op):\n",
    "    if op==\"add\":\n",
    "        t=a+b\n",
    "        print(t)\n",
    "    elif op==\"sub\":\n",
    "        t=a-b\n",
    "        print(t)\n",
    "    elif op==\"mul\":\n",
    "        t=a*b\n",
    "        print(t)\n",
    "    elif op==\"div\":\n",
    "        t=a/b\n",
    "        print(t)\n",
    "    else:\n",
    "        print(\"invalid input\")\n",
    "print(calc(10,5,\"add\"))"
   ]
  },
  {
   "cell_type": "code",
   "execution_count": 8,
   "metadata": {
    "colab": {
     "base_uri": "https://localhost:8080/"
    },
    "executionInfo": {
     "elapsed": 16211,
     "status": "ok",
     "timestamp": 1639744580002,
     "user": {
      "displayName": "Akshita Jain",
      "photoUrl": "https://lh3.googleusercontent.com/a-/AOh14GhRl4QbaRHRJmTQyBqVdXmet36llHYFgx9IQdVmtg=s64",
      "userId": "15547845487896249647"
     },
     "user_tz": -330
    },
    "id": "GDYNYiuWoPiw",
    "outputId": "887e4549-b093-4831-b866-8ada1626f59d"
   },
   "outputs": [
    {
     "name": "stdout",
     "output_type": "stream",
     "text": [
      "what is your name? dakshi\n",
      "What is your age? 1\n",
      "What is your favourite color? black\n",
      "dakshi is 1 years old. Their Favourite color is black\n"
     ]
    }
   ],
   "source": [
    "#Function to get info of a user\n",
    "\n",
    "def Info(name,age,color):\n",
    "  print(name,\"is\",age,\"years old. Their Favourite color is\",color)\n",
    "a = input(\"what is your name? \")\n",
    "b = input(\"What is your age? \")\n",
    "c = input(\"What is your favourite color? \")\n",
    "Info(a,b,c)"
   ]
  },
  {
   "cell_type": "code",
   "execution_count": 2,
   "metadata": {},
   "outputs": [
    {
     "name": "stdout",
     "output_type": "stream",
     "text": [
      "what is your name?abc\n",
      "number of students20\n",
      "what is the age of person/student11\n",
      "how many sections are there?2\n",
      "Name of person is: abc ,number of students are: 20 ,age of person is : 11 ,number of sections are: 2\n"
     ]
    }
   ],
   "source": [
    "def a(name,students,age,sections):\n",
    "    print(\"Name of person is:\",name,\",number of students are:\",\n",
    "          students,\",age of person is :\",age,\",number of sections are:\",sections)\n",
    "x=input(\"what is your name?\")\n",
    "y=int(input(\"number of students\"))\n",
    "z=int(input(\"what is the age of person/student\"))\n",
    "w=input(\"how many sections are there?\")\n",
    "a(x,y,z,w)"
   ]
  },
  {
   "cell_type": "code",
   "execution_count": 5,
   "metadata": {
    "colab": {
     "base_uri": "https://localhost:8080/"
    },
    "executionInfo": {
     "elapsed": 523,
     "status": "ok",
     "timestamp": 1639379779504,
     "user": {
      "displayName": "Akshita Jain",
      "photoUrl": "https://lh3.googleusercontent.com/a-/AOh14GhRl4QbaRHRJmTQyBqVdXmet36llHYFgx9IQdVmtg=s64",
      "userId": "15547845487896249647"
     },
     "user_tz": -330
    },
    "id": "acONoLfDgWAq",
    "outputId": "72108d70-6f59-475e-ec69-7640dac04bf8"
   },
   "outputs": [
    {
     "name": "stdout",
     "output_type": "stream",
     "text": [
      "[1, 3, 9]\n",
      "False\n",
      "False\n",
      "True\n"
     ]
    }
   ],
   "source": [
    "#You can call a function inside another function\n",
    "#Function to check if a number is prime or not\n",
    "def factors(n):\n",
    "  ListOfFactors = []\n",
    "  for i in range(1,n+1):\n",
    "    if (n%i==0):\n",
    "      ListOfFactors.append(i)\n",
    "  return ListOfFactors\n",
    "print(factors(9))\n",
    "\n",
    "def IsPrime(n):\n",
    "  NoOfFactors = len(factors(n))\n",
    "  if(NoOfFactors>2):\n",
    "    return False\n",
    "  else:\n",
    "    return True  \n",
    "print(IsPrime(4))\n",
    "print(IsPrime(8))\n",
    "print(IsPrime(17))"
   ]
  },
  {
   "cell_type": "code",
   "execution_count": null,
   "metadata": {},
   "outputs": [],
   "source": []
  },
  {
   "cell_type": "markdown",
   "metadata": {
    "id": "1eea3vU5sr6a"
   },
   "source": [
    "## Keyword Arguments\n",
    "You can also send arguments with the **key = value** syntax.\n",
    "\n",
    "This way the order of the arguments does not matter.\n"
   ]
  },
  {
   "cell_type": "code",
   "execution_count": null,
   "metadata": {},
   "outputs": [],
   "source": []
  },
  {
   "cell_type": "code",
   "execution_count": 2,
   "metadata": {
    "colab": {
     "base_uri": "https://localhost:8080/"
    },
    "executionInfo": {
     "elapsed": 1118,
     "status": "ok",
     "timestamp": 1613463258267,
     "user": {
      "displayName": "Somaraju LD",
      "photoUrl": "",
      "userId": "06442596576645839872"
     },
     "user_tz": -330
    },
    "id": "LvxyIJAT4Nhe",
    "outputId": "f655e690-8b28-4740-e6c7-0ccd9de543c9"
   },
   "outputs": [
    {
     "name": "stdout",
     "output_type": "stream",
     "text": [
      "The youngest child  is tanisha\n"
     ]
    }
   ],
   "source": [
    "def youngest(chlid1, child2, child3):\n",
    "  print(f\"The youngest child  is {child2}\")\n",
    "youngest(child3 = \"lakshmi\", chlid1= \"soumya\",  child2 = \"tanisha\")"
   ]
  },
  {
   "cell_type": "code",
   "execution_count": 23,
   "metadata": {
    "colab": {
     "base_uri": "https://localhost:8080/"
    },
    "executionInfo": {
     "elapsed": 354,
     "status": "ok",
     "timestamp": 1639744937238,
     "user": {
      "displayName": "Akshita Jain",
      "photoUrl": "https://lh3.googleusercontent.com/a-/AOh14GhRl4QbaRHRJmTQyBqVdXmet36llHYFgx9IQdVmtg=s64",
      "userId": "15547845487896249647"
     },
     "user_tz": -330
    },
    "id": "__AjgZRXZ5Zx",
    "outputId": "2275b2ca-800d-4543-eae0-28df16734300"
   },
   "outputs": [
    {
     "name": "stdout",
     "output_type": "stream",
     "text": [
      "No armnstring number\n"
     ]
    }
   ],
   "source": [
    "n=127\n",
    "temp=n\n",
    "sum=0\n",
    "while temp>0:\n",
    "  digit=temp%10\n",
    "  sum+=digit**3\n",
    "  temp//=10\n",
    "if n==sum:\n",
    "  print(\"Armstrong number\")\n",
    "else:\n",
    "  print(\"No armnstring number\")"
   ]
  },
  {
   "cell_type": "code",
   "execution_count": null,
   "metadata": {
    "colab": {
     "base_uri": "https://localhost:8080/"
    },
    "executionInfo": {
     "elapsed": 4,
     "status": "ok",
     "timestamp": 1623934196859,
     "user": {
      "displayName": "Somaraju LD",
      "photoUrl": "",
      "userId": "06442596576645839872"
     },
     "user_tz": -330
    },
    "id": "VAC7_IXCBIbA",
    "outputId": "31abaeca-df0d-4d91-bfd5-1a19f2d50320"
   },
   "outputs": [
    {
     "name": "stdout",
     "output_type": "stream",
     "text": [
      "lakshmi durga\n"
     ]
    }
   ],
   "source": [
    "def fullname(fname, lname):   # fname, lname  are paramemters\n",
    "    print(f'{fname} {lname}')\n",
    "\n",
    "fullname(fname = 'lakshmi', lname = 'durga')"
   ]
  },
  {
   "cell_type": "markdown",
   "metadata": {
    "id": "UW8QnV9usxJ6"
   },
   "source": [
    "## Arbitrary Arguments, ```*args``` \n",
    "* If you do not know how many arguments that will be passed into your function, add a  *  before the parameter name in the function definition.\n",
    "\n",
    "* This way the function will receive a **tuple of arguments,** and can access the items accordingly:\n",
    "\n",
    "\n",
    "\n"
   ]
  },
  {
   "cell_type": "code",
   "execution_count": 2,
   "metadata": {
    "colab": {
     "base_uri": "https://localhost:8080/"
    },
    "executionInfo": {
     "elapsed": 410,
     "status": "ok",
     "timestamp": 1629470008423,
     "user": {
      "displayName": "Somaraju LD",
      "photoUrl": "",
      "userId": "06442596576645839872"
     },
     "user_tz": -330
    },
    "id": "adQd40i4so_T",
    "outputId": "9ac40775-c6c3-4150-d5f4-86ab5dea6b1a"
   },
   "outputs": [
    {
     "name": "stdout",
     "output_type": "stream",
     "text": [
      "The youngest child is shubham\n"
     ]
    }
   ],
   "source": [
    "#Example: If the number of arguments is unknown, add a * before the parameter name:\n",
    "\n",
    "def my_function(*kids):\n",
    "\n",
    "  print(\"The youngest child is \" + kids[3])\n",
    "\n",
    "my_function(\"Emil\", \"Tobias\", \"Linus\",\"shubham\",\"luv\",\"sagar\",\"yash\")   # here we canot assign expressions to the values , like kid[1] = \"emil\""
   ]
  },
  {
   "cell_type": "code",
   "execution_count": null,
   "metadata": {
    "colab": {
     "base_uri": "https://localhost:8080/"
    },
    "executionInfo": {
     "elapsed": 535,
     "status": "ok",
     "timestamp": 1639745584776,
     "user": {
      "displayName": "Akshita Jain",
      "photoUrl": "https://lh3.googleusercontent.com/a-/AOh14GhRl4QbaRHRJmTQyBqVdXmet36llHYFgx9IQdVmtg=s64",
      "userId": "15547845487896249647"
     },
     "user_tz": -330
    },
    "id": "fXDK-P9UBuKY",
    "outputId": "3402d641-865d-49f5-e8e8-3f72d2dd6afb"
   },
   "outputs": [
    {
     "name": "stdout",
     "output_type": "stream",
     "text": [
      "Somaraju lakshmi durga \n",
      "Sai Ram \n"
     ]
    }
   ],
   "source": [
    "def fullname(*name):  # *name is  Arbitrary parameter\n",
    "    fn = \"\"\n",
    "    for i in name:\n",
    "        fn += (i + \" \")\n",
    "    print(fn)\n",
    "\n",
    "fullname('Somaraju', 'lakshmi', 'durga')  # Arbitrary Arguments\n",
    "fullname('Sai', 'Ram')"
   ]
  },
  {
   "cell_type": "code",
   "execution_count": null,
   "metadata": {
    "colab": {
     "base_uri": "https://localhost:8080/"
    },
    "executionInfo": {
     "elapsed": 15,
     "status": "ok",
     "timestamp": 1639464364006,
     "user": {
      "displayName": "Akshita Jain",
      "photoUrl": "https://lh3.googleusercontent.com/a-/AOh14GhRl4QbaRHRJmTQyBqVdXmet36llHYFgx9IQdVmtg=s64",
      "userId": "15547845487896249647"
     },
     "user_tz": -330
    },
    "id": "I-_W2ZMy6coX",
    "outputId": "2f07dcb1-f17c-43c9-fc23-2d3d1d86e21e"
   },
   "outputs": [
    {
     "name": "stdout",
     "output_type": "stream",
     "text": [
      "The youngest child is soumya S\n"
     ]
    }
   ],
   "source": [
    "def my_function(*kids, surname):\n",
    "\n",
    "  print(\"The youngest child is \" + kids[2] , surname)\n",
    "# here the kids variable will  store all the values in the form of tuple\n",
    "my_function(\"emil\", \"tanisha\", \"soumya\", surname= \"S\")  # here for *kids parameter its not possible to assing a tuple format or any other type"
   ]
  },
  {
   "cell_type": "code",
   "execution_count": null,
   "metadata": {
    "colab": {
     "base_uri": "https://localhost:8080/"
    },
    "executionInfo": {
     "elapsed": 567,
     "status": "ok",
     "timestamp": 1639464441543,
     "user": {
      "displayName": "Akshita Jain",
      "photoUrl": "https://lh3.googleusercontent.com/a-/AOh14GhRl4QbaRHRJmTQyBqVdXmet36llHYFgx9IQdVmtg=s64",
      "userId": "15547845487896249647"
     },
     "user_tz": -330
    },
    "id": "CNRwcrkfKoO6",
    "outputId": "de49467a-ebff-43b1-cebd-c9c3fc8fe945"
   },
   "outputs": [
    {
     "name": "stdout",
     "output_type": "stream",
     "text": [
      "21\n"
     ]
    }
   ],
   "source": [
    "def avg(*n):\n",
    "  sum = 0\n",
    "  for i in n :\n",
    "    sum = sum + i\n",
    "  print(sum)\n",
    "\n",
    "avg(1,2,3,4,5,6)"
   ]
  },
  {
   "cell_type": "code",
   "execution_count": null,
   "metadata": {
    "colab": {
     "base_uri": "https://localhost:8080/"
    },
    "executionInfo": {
     "elapsed": 630,
     "status": "ok",
     "timestamp": 1639464497368,
     "user": {
      "displayName": "Akshita Jain",
      "photoUrl": "https://lh3.googleusercontent.com/a-/AOh14GhRl4QbaRHRJmTQyBqVdXmet36llHYFgx9IQdVmtg=s64",
      "userId": "15547845487896249647"
     },
     "user_tz": -330
    },
    "id": "apkO0Peq1Gvj",
    "outputId": "e876b132-2892-46bb-c24f-896075e2edb7"
   },
   "outputs": [
    {
     "name": "stdout",
     "output_type": "stream",
     "text": [
      "<class 'tuple'>\n",
      "The youngest child is Emil\n",
      "The youngest child is Tobias\n",
      "The youngest child is Linus\n"
     ]
    }
   ],
   "source": [
    "def my_function(*kids):\n",
    "  print(type(kids))\n",
    "  for i in kids:\n",
    "    print(\"The youngest child is \" + i)\n",
    "\n",
    "my_function(\"Emil\", \"Tobias\", \"Linus\")"
   ]
  },
  {
   "cell_type": "markdown",
   "metadata": {
    "id": "XOEfno_NtJti"
   },
   "source": [
    "## Arbitrary Keyword Arguments, ```**kwargs```\n",
    "\n",
    "> If you do not know how many keyword arguments that will be passed into your function, add two asterisk: ** before the parameter name in the function definition.\n",
    "\n",
    "This way the function will receive a **dictionary of arguments**, and can access the items accordingly: \n"
   ]
  },
  {
   "cell_type": "code",
   "execution_count": null,
   "metadata": {
    "colab": {
     "base_uri": "https://localhost:8080/"
    },
    "executionInfo": {
     "elapsed": 578,
     "status": "ok",
     "timestamp": 1639464616076,
     "user": {
      "displayName": "Akshita Jain",
      "photoUrl": "https://lh3.googleusercontent.com/a-/AOh14GhRl4QbaRHRJmTQyBqVdXmet36llHYFgx9IQdVmtg=s64",
      "userId": "15547845487896249647"
     },
     "user_tz": -330
    },
    "id": "qcgtJviv9TY7",
    "outputId": "e0ed12c2-6191-41ca-bafc-7aae56c54f04"
   },
   "outputs": [
    {
     "name": "stdout",
     "output_type": "stream",
     "text": [
      "{'child1': 'Krishna', 'child2': 'Ravi', 'child3': 'Arjun'}\n",
      "The youngest child is Arjun\n"
     ]
    }
   ],
   "source": [
    "def my_function(**kids):\n",
    "    print(kids)\n",
    "    print(\"The youngest child is \" + kids[\"child3\"])\n",
    "\n",
    "my_function(child1 = \"Krishna\", child2 = \"Ravi\",  child3 =\"Arjun\")\n"
   ]
  },
  {
   "cell_type": "code",
   "execution_count": null,
   "metadata": {
    "colab": {
     "base_uri": "https://localhost:8080/"
    },
    "executionInfo": {
     "elapsed": 5,
     "status": "ok",
     "timestamp": 1639464612847,
     "user": {
      "displayName": "Akshita Jain",
      "photoUrl": "https://lh3.googleusercontent.com/a-/AOh14GhRl4QbaRHRJmTQyBqVdXmet36llHYFgx9IQdVmtg=s64",
      "userId": "15547845487896249647"
     },
     "user_tz": -330
    },
    "id": "vUbvjOxitYGt",
    "outputId": "781fa150-56dd-493d-9a4e-97aaa7d22b2a"
   },
   "outputs": [
    {
     "name": "stdout",
     "output_type": "stream",
     "text": [
      "His last name is Tej\n"
     ]
    }
   ],
   "source": [
    "# Example: If the number of keyword arguments is unknown, add a double ** before the parameter name:\n",
    "\n",
    "def my_function(**kid):\n",
    "  print(\"His last name is \" + kid[\"lname\"])\n",
    "\n",
    "my_function(fname = \"Arjun\", lname = \"Tej\")"
   ]
  },
  {
   "cell_type": "code",
   "execution_count": null,
   "metadata": {
    "colab": {
     "base_uri": "https://localhost:8080/"
    },
    "executionInfo": {
     "elapsed": 569,
     "status": "ok",
     "timestamp": 1639745793300,
     "user": {
      "displayName": "Akshita Jain",
      "photoUrl": "https://lh3.googleusercontent.com/a-/AOh14GhRl4QbaRHRJmTQyBqVdXmet36llHYFgx9IQdVmtg=s64",
      "userId": "15547845487896249647"
     },
     "user_tz": -330
    },
    "id": "QVF3XikrFk8z",
    "outputId": "a9149d25-18a0-4797-c296-c37de719bb02"
   },
   "outputs": [
    {
     "name": "stdout",
     "output_type": "stream",
     "text": [
      "{'name': 'lakshmi', 'age': 24, 'location': 'hyd'}\n",
      "The name is lakshmi\n",
      "The age is 24\n",
      "The location is hyd\n"
     ]
    }
   ],
   "source": [
    "def person_details(**details):\n",
    "    print(details)\n",
    "    for i in details:\n",
    "        print(f'The {i} is {details.get(i)}')\n",
    "\n",
    "person_details(name = 'lakshmi', age = 24, location = 'hyd')  # Arbitrary Keyword Arguments"
   ]
  },
  {
   "cell_type": "code",
   "execution_count": null,
   "metadata": {
    "id": "pCmWKdbH-JAy"
   },
   "outputs": [],
   "source": [
    "# RECOLLECT THE ARGUMENT TYPES: \n",
    "\n",
    "\n",
    "def fun(*name):\n",
    "  pass  \n",
    "fun(name1 = \"value\", name2 = \"value2\")  # arbitary argument   ----> stores in form of TUPLE\n",
    "\n",
    "\n",
    "def fun(**name): #arbitary key word arguments\n",
    "  pass\n",
    "fun(key1 = \"value1\", key2 = \"value2\")   # -----> stores in form of dictonary"
   ]
  },
  {
   "cell_type": "markdown",
   "metadata": {
    "id": "mJjiC0tN2DA-"
   },
   "source": [
    "## Recursion\n",
    "Python also accepts function recursion, which means a defined function can call itself.\n",
    "\n",
    "Recursion is a common mathematical and programming concept. It means that a function calls itself. This has the benefit of meaning that you can loop through data to reach a result.\n",
    "\n",
    "The developer should be very careful with recursion as it can be quite easy to slip into writing a function which never terminates, or one that uses excess amounts of memory or processor power. However, when written correctly recursion can be a very efficient and mathematically-elegant approach to programming.\n",
    "\n",
    "\n",
    "\n",
    "To a new developer it can take some time to work out how exactly this works, best way to find out is by testing and modifying it.\n"
   ]
  },
  {
   "cell_type": "code",
   "execution_count": 27,
   "metadata": {},
   "outputs": [
    {
     "name": "stdout",
     "output_type": "stream",
     "text": [
      "24\n"
     ]
    }
   ],
   "source": [
    "def Factorial(a):\n",
    "    if(a==1):\n",
    "        return a\n",
    "    else:\n",
    "        return a*Factorial(a-1)\n",
    "print(Factorial(4))"
   ]
  },
  {
   "cell_type": "code",
   "execution_count": 17,
   "metadata": {
    "colab": {
     "base_uri": "https://localhost:8080/"
    },
    "executionInfo": {
     "elapsed": 1726,
     "status": "ok",
     "timestamp": 1614446716790,
     "user": {
      "displayName": "Somaraju LD",
      "photoUrl": "",
      "userId": "06442596576645839872"
     },
     "user_tz": -330
    },
    "id": "rw-0RWonhztI",
    "outputId": "0c109b2e-96f0-4e30-9b25-a13d33edad61"
   },
   "outputs": [
    {
     "name": "stdout",
     "output_type": "stream",
     "text": [
      "24\n"
     ]
    }
   ],
   "source": [
    "#Recursion: A function call within itself (or) A function calling itself\n",
    "#Factorial\n",
    "def Factorial(n):\n",
    "  if(n==1):\n",
    "    return n\n",
    "  else:\n",
    "    return n*Factorial(n-1)   # when factorial(1) will come, it returns 1 & that is placed in line 7 as factorial(1) is present\n",
    "print(Factorial(4))\n",
    "\n",
    "\n",
    "# 0 1 1 2 3 5 8 13 "
   ]
  },
  {
   "cell_type": "code",
   "execution_count": null,
   "metadata": {},
   "outputs": [],
   "source": []
  },
  {
   "cell_type": "code",
   "execution_count": 17,
   "metadata": {
    "colab": {
     "base_uri": "https://localhost:8080/"
    },
    "executionInfo": {
     "elapsed": 410,
     "status": "ok",
     "timestamp": 1640004215373,
     "user": {
      "displayName": "Akshita Jain",
      "photoUrl": "https://lh3.googleusercontent.com/a-/AOh14GhRl4QbaRHRJmTQyBqVdXmet36llHYFgx9IQdVmtg=s64",
      "userId": "15547845487896249647"
     },
     "user_tz": -330
    },
    "id": "n9wkccrvuCiT",
    "outputId": "bc552cef-cbbe-4a32-9f68-41a8fc5d8adf"
   },
   "outputs": [
    {
     "name": "stdout",
     "output_type": "stream",
     "text": [
      "Fibonacci sequence:\n",
      "0\n",
      "1\n",
      "1\n",
      "2\n",
      "3\n",
      "5\n",
      "8\n",
      "13\n",
      "21\n",
      "34\n"
     ]
    }
   ],
   "source": [
    "def recur_fibo(n):\n",
    "   if n <= 1:\n",
    "       return n\n",
    "   else:    return(recur_fibo(n-1) + recur_fibo(n-2))\n",
    "nterms = 10\n",
    "# check if the number of terms is valid\n",
    "if nterms <= 0:\n",
    "   print(\"Plese enter a positive integer\")\n",
    "else:\n",
    "   print(\"Fibonacci sequence:\")\n",
    "   for i in range(nterms):\n",
    "       print(recur_fibo(i))"
   ]
  },
  {
   "cell_type": "code",
   "execution_count": 28,
   "metadata": {
    "colab": {
     "background_save": true
    },
    "id": "Hb4SaG5o30tL"
   },
   "outputs": [
    {
     "name": "stdout",
     "output_type": "stream",
     "text": [
      "10\n"
     ]
    }
   ],
   "source": [
    "# add two numbers without addition symbol using recursion\n",
    "def sum(x,y):\n",
    "  if y==0:\n",
    "    return x\n",
    "  elif x==0:\n",
    "    return y\n",
    "  else:\n",
    "    return sum(x-2,y)\n",
    "print(sum(0,10))"
   ]
  },
  {
   "cell_type": "code",
   "execution_count": null,
   "metadata": {
    "colab": {
     "base_uri": "https://localhost:8080/"
    },
    "executionInfo": {
     "elapsed": 444,
     "status": "ok",
     "timestamp": 1640004774162,
     "user": {
      "displayName": "Akshita Jain",
      "photoUrl": "https://lh3.googleusercontent.com/a-/AOh14GhRl4QbaRHRJmTQyBqVdXmet36llHYFgx9IQdVmtg=s64",
      "userId": "15547845487896249647"
     },
     "user_tz": -330
    },
    "id": "M0s4Uyqf4gZR",
    "outputId": "048f4133-e0c6-467b-8c7a-4dabfd65d521"
   },
   "outputs": [
    {
     "name": "stdout",
     "output_type": "stream",
     "text": [
      "9\n"
     ]
    }
   ],
   "source": [
    "# divide two numbers without addition symbol using recursion\n",
    "def div(x,y):\n",
    "  if y==0:\n",
    "    return 0\n",
    "  elif x==0:\n",
    "    return 0\n",
    "  elif x-y==0:\n",
    "    return 1\n",
    "  else:\n",
    "    return (1+div(x-y,y))\n",
    "print(div(63,7))"
   ]
  },
  {
   "cell_type": "code",
   "execution_count": null,
   "metadata": {
    "colab": {
     "base_uri": "https://localhost:8080/"
    },
    "executionInfo": {
     "elapsed": 409,
     "status": "ok",
     "timestamp": 1640005078503,
     "user": {
      "displayName": "Akshita Jain",
      "photoUrl": "https://lh3.googleusercontent.com/a-/AOh14GhRl4QbaRHRJmTQyBqVdXmet36llHYFgx9IQdVmtg=s64",
      "userId": "15547845487896249647"
     },
     "user_tz": -330
    },
    "id": "vJqIpc3g51sI",
    "outputId": "16817b14-7708-42aa-b7ef-2556318f20ac"
   },
   "outputs": [
    {
     "name": "stdout",
     "output_type": "stream",
     "text": [
      "64\n"
     ]
    }
   ],
   "source": [
    "# power two numbers without addition symbol using recursion\n",
    "def pow(x,y):\n",
    "  if y==0:\n",
    "    return 1\n",
    "  elif x==0:\n",
    "    return 0\n",
    "  elif y==1:\n",
    "    return x\n",
    "  else:\n",
    "    return x*pow(x,y-1)\n",
    "print(pow(4,3))"
   ]
  },
  {
   "cell_type": "code",
   "execution_count": 13,
   "metadata": {},
   "outputs": [
    {
     "name": "stdout",
     "output_type": "stream",
     "text": [
      "0\n",
      "1\n",
      "1\n",
      "2\n",
      "3\n",
      "5\n",
      "8\n",
      "13\n",
      "21\n",
      "34\n",
      "55\n"
     ]
    }
   ],
   "source": [
    "#FIBONACCI SERIES\n",
    "def fib(n):\n",
    "    a=0\n",
    "    b=1\n",
    "    if n==1:\n",
    "        print(a)\n",
    "    else:\n",
    "        print(a)\n",
    "        print(b)\n",
    "    for i in range(1,n):\n",
    "        c=a+b\n",
    "        a=b\n",
    "        b=c\n",
    "        print(c)\n",
    "fib(10)"
   ]
  },
  {
   "cell_type": "markdown",
   "metadata": {
    "id": "s1tqArKCjcN_"
   },
   "source": [
    "## Global, Local & Nonlocal variables in Functions: \n",
    "\n",
    "\n",
    "#### Global Variables\n",
    "> In Python, a variable declared outside of the function or in global scope is known as a global variable. This means that a global variable can be accessed inside or outside of the function.\n",
    "\n",
    "Let's see an example of how a global variable is created in Python. \n"
   ]
  },
  {
   "cell_type": "code",
   "execution_count": 29,
   "metadata": {},
   "outputs": [
    {
     "name": "stdout",
     "output_type": "stream",
     "text": [
      "app\n"
     ]
    }
   ],
   "source": [
    "#global\n",
    "a=\"app\"\n",
    "def app():\n",
    "    print(a)\n",
    "app()"
   ]
  },
  {
   "cell_type": "code",
   "execution_count": 31,
   "metadata": {},
   "outputs": [
    {
     "name": "stdout",
     "output_type": "stream",
     "text": [
      "1\n"
     ]
    }
   ],
   "source": [
    "#local variables\n",
    "def app1():\n",
    "    a=1\n",
    "    print(a)\n",
    "app1()"
   ]
  },
  {
   "cell_type": "code",
   "execution_count": 32,
   "metadata": {},
   "outputs": [
    {
     "name": "stdout",
     "output_type": "stream",
     "text": [
      "outer: local\n",
      "inner: nonlocal\n",
      "outer: nonlocal\n"
     ]
    }
   ],
   "source": [
    "# Example 6: Create a nonlocal variable\n",
    "def outer():\n",
    "    x = \"local\"\n",
    "    print(\"outer:\", x)\n",
    "    def inner():\n",
    "        nonlocal x\n",
    "        x = \"nonlocal\"\n",
    "        print(\"inner:\", x)\n",
    "\n",
    "    inner()\n",
    "    print(\"outer:\", x)\n",
    "\n",
    "\n",
    "outer()"
   ]
  },
  {
   "cell_type": "code",
   "execution_count": null,
   "metadata": {
    "colab": {
     "base_uri": "https://localhost:8080/"
    },
    "executionInfo": {
     "elapsed": 408,
     "status": "ok",
     "timestamp": 1639745971710,
     "user": {
      "displayName": "Akshita Jain",
      "photoUrl": "https://lh3.googleusercontent.com/a-/AOh14GhRl4QbaRHRJmTQyBqVdXmet36llHYFgx9IQdVmtg=s64",
      "userId": "15547845487896249647"
     },
     "user_tz": -330
    },
    "id": "y6YaxYa1jUGM",
    "outputId": "7289ad0e-0073-40b2-8dd7-4dc0d04117f5"
   },
   "outputs": [
    {
     "name": "stdout",
     "output_type": "stream",
     "text": [
      "x inside: global\n",
      "x outside: global\n"
     ]
    }
   ],
   "source": [
    "x = \"global\"\n",
    "\n",
    "def foo():\n",
    "    print(\"x inside:\", x)\n",
    "\n",
    "foo()\n",
    "print(\"x outside:\", x)\n",
    "\n",
    "# In the above code, we created x as a global variable and defined a foo() to print the global variable x. \n",
    "# Finally, we call the foo() which will print the value of x."
   ]
  },
  {
   "cell_type": "code",
   "execution_count": 29,
   "metadata": {
    "id": "OqV_-55OjvJb"
   },
   "outputs": [
    {
     "ename": "UnboundLocalError",
     "evalue": "local variable 'x' referenced before assignment",
     "output_type": "error",
     "traceback": [
      "\u001b[1;31m---------------------------------------------------------------------------\u001b[0m",
      "\u001b[1;31mUnboundLocalError\u001b[0m                         Traceback (most recent call last)",
      "Cell \u001b[1;32mIn[29], line 8\u001b[0m\n\u001b[0;32m      5\u001b[0m     x \u001b[38;5;241m=\u001b[39m x \u001b[38;5;241m*\u001b[39m \u001b[38;5;241m2\u001b[39m   \u001b[38;5;66;03m# The output shows an error because Python treats x as a local variable and x is also not defined inside foo().\u001b[39;00m\n\u001b[0;32m      6\u001b[0m     \u001b[38;5;28mprint\u001b[39m(x)\n\u001b[1;32m----> 8\u001b[0m \u001b[43mfoo\u001b[49m\u001b[43m(\u001b[49m\u001b[43m)\u001b[49m\n",
      "Cell \u001b[1;32mIn[29], line 5\u001b[0m, in \u001b[0;36mfoo\u001b[1;34m()\u001b[0m\n\u001b[0;32m      4\u001b[0m \u001b[38;5;28;01mdef\u001b[39;00m \u001b[38;5;21mfoo\u001b[39m():\n\u001b[1;32m----> 5\u001b[0m     x \u001b[38;5;241m=\u001b[39m \u001b[43mx\u001b[49m \u001b[38;5;241m*\u001b[39m \u001b[38;5;241m2\u001b[39m   \u001b[38;5;66;03m# The output shows an error because Python treats x as a local variable and x is also not defined inside foo().\u001b[39;00m\n\u001b[0;32m      6\u001b[0m     \u001b[38;5;28mprint\u001b[39m(x)\n",
      "\u001b[1;31mUnboundLocalError\u001b[0m: local variable 'x' referenced before assignment"
     ]
    }
   ],
   "source": [
    "# What if you want to change the value of x inside a function?\n",
    "x = \"global\"\n",
    "\n",
    "def foo():\n",
    "    x = x * 2   # The output shows an error because Python treats x as a local variable and x is also not defined inside foo().\n",
    "    print(x)\n",
    "\n",
    "foo()\n",
    "# To make this work, we use the global keyword."
   ]
  },
  {
   "cell_type": "markdown",
   "metadata": {
    "id": "exM_uWB9pYAd"
   },
   "source": [
    "#### **Local Variables :**\n",
    " \n",
    "> A variable declared inside the function's body or in the local scope is known as a local variable.\n",
    "\n",
    "Let's see an example on how a local variable is created in Python.\n",
    "\n",
    "\n"
   ]
  },
  {
   "cell_type": "code",
   "execution_count": 30,
   "metadata": {
    "id": "PNHDK9IRqYOG"
   },
   "outputs": [
    {
     "name": "stdout",
     "output_type": "stream",
     "text": [
      "local\n"
     ]
    }
   ],
   "source": [
    "# Example : Create a Local Variable\n",
    "\n",
    "def foo():\n",
    "    y = \"local\"  # Normally, we declare a variable inside the function to create a local variable.\n",
    "    print(y)\n",
    "\n",
    "foo()"
   ]
  },
  {
   "cell_type": "code",
   "execution_count": null,
   "metadata": {
    "id": "A3W_9tD8ptId"
   },
   "outputs": [],
   "source": [
    "# Example : Accessing local variable outside the scope\n",
    "def foo():\n",
    "    y = \"local\"\n",
    "\n",
    "foo()\n",
    "print(y) # The output shows an error because we are \n",
    "# trying to access a local variable y in a global scope whereas the local variable only works inside foo() or local scope."
   ]
  },
  {
   "cell_type": "markdown",
   "metadata": {
    "id": "Eu_60a1gq7Nl"
   },
   "source": [
    "Let's take a look at the earlier problem where x was a global variable and we wanted to modify x inside foo().\n",
    "\n",
    "Global and local variables\n",
    "Here, we will show how to use global variables and local variables in the same code.\n",
    "\n"
   ]
  },
  {
   "cell_type": "code",
   "execution_count": null,
   "metadata": {
    "colab": {
     "base_uri": "https://localhost:8080/"
    },
    "executionInfo": {
     "elapsed": 395,
     "status": "ok",
     "timestamp": 1639746185322,
     "user": {
      "displayName": "Akshita Jain",
      "photoUrl": "https://lh3.googleusercontent.com/a-/AOh14GhRl4QbaRHRJmTQyBqVdXmet36llHYFgx9IQdVmtg=s64",
      "userId": "15547845487896249647"
     },
     "user_tz": -330
    },
    "id": "A0YPkBsuq9El",
    "outputId": "0e4fddd7-3813-4568-f8e7-9697bed1628b"
   },
   "outputs": [
    {
     "name": "stdout",
     "output_type": "stream",
     "text": [
      "global global \n",
      "local\n"
     ]
    }
   ],
   "source": [
    "# Example 4: Using Global and Local variables in the same code\n",
    "x = \"global \"\n",
    "\n",
    "def foo():\n",
    "    global x   \n",
    "    y = \"local\"\n",
    "    x = x * 2\n",
    "    print(x)\n",
    "    print(y)\n",
    "\n",
    "foo()"
   ]
  },
  {
   "cell_type": "markdown",
   "metadata": {
    "id": "RZrK3oxarDxF"
   },
   "source": [
    "In the above code, we declare x as a global and y as a local variable in the foo(). Then, we use multiplication operator * to modify the global variable x and we print both x and y.\n",
    "\n",
    "After calling the foo(), the value of x becomes global global because we used the x * 2 to print two times global. After that, we print the value of local variable y i.e local. \n",
    "\n",
    "\n",
    "* its a bad practice to declare a global variable inside function, becouse, it may change the global value assigned outside the function, & also may chage the logic & creates bugs. \n",
    " * use global variable unless its really necessary inside the function"
   ]
  },
  {
   "cell_type": "code",
   "execution_count": null,
   "metadata": {
    "id": "2Om7850frJyU"
   },
   "outputs": [],
   "source": [
    "# Example 5: Global variable and Local variable with same name\n",
    "x = 5\n",
    "\n",
    "def foo():\n",
    "    x = 10\n",
    "    print(\"local x:\", x)\n",
    "\n",
    "\n",
    "foo()\n",
    "print(\"global x:\", x)"
   ]
  },
  {
   "cell_type": "markdown",
   "metadata": {
    "id": "mFb6FBSYrIUE"
   },
   "source": [
    "In the above code, we used the same name x for both global variable and local variable. We get a different result when we print the same variable because the variable is declared in both scopes, i.e. the local scope inside foo() and global scope outside foo().\n",
    "\n",
    "When we print the variable inside foo() it outputs local x: 10. This is called the local scope of the variable.\n",
    "\n",
    "Similarly, when we print the variable outside the foo(), it outputs global x: 5. This is called the global scope of the variable.\n",
    "\n",
    "#### **Nonlocal Variables**\n",
    "Nonlocal variables are used in **nested functions** whose local scope is not defined. This means that the variable can be neither in the local nor the global scope.\n",
    "\n",
    "Let's see an example of how a nonlocal variable is used in Python.\n",
    "\n",
    "We use nonlocal keywords to create nonlocal variables."
   ]
  },
  {
   "cell_type": "code",
   "execution_count": null,
   "metadata": {
    "colab": {
     "base_uri": "https://localhost:8080/"
    },
    "executionInfo": {
     "elapsed": 360,
     "status": "ok",
     "timestamp": 1623590986398,
     "user": {
      "displayName": "Somaraju LD",
      "photoUrl": "",
      "userId": "06442596576645839872"
     },
     "user_tz": -330
    },
    "id": "UAUvd9vrrTQV",
    "outputId": "52a36bfa-8888-421a-d25e-c8044191aef5"
   },
   "outputs": [
    {
     "name": "stdout",
     "output_type": "stream",
     "text": [
      "outer: local\n",
      "inner: nonlocal\n",
      "outer: nonlocal\n"
     ]
    }
   ],
   "source": [
    "# Example 6: Create a nonlocal variable\n",
    "def outer():\n",
    "    x = \"local\"\n",
    "    print(\"outer:\", x)\n",
    "    def inner():\n",
    "        nonlocal x\n",
    "        x = \"nonlocal\"\n",
    "        print(\"inner:\", x)\n",
    "\n",
    "    inner()\n",
    "    print(\"outer:\", x)\n",
    "\n",
    "\n",
    "outer()"
   ]
  },
  {
   "cell_type": "markdown",
   "metadata": {
    "id": "ULjZzFRdrZpU"
   },
   "source": [
    "In the above code, there is a nested inner() function. We use nonlocal keywords to create a nonlocal variable. The inner() function is defined in the scope of another function outer()."
   ]
  },
  {
   "cell_type": "code",
   "execution_count": null,
   "metadata": {
    "id": "I1Sk8x_WgzqH"
   },
   "outputs": [],
   "source": []
  },
  {
   "cell_type": "markdown",
   "metadata": {
    "id": "z-s8A6al1FJw"
   },
   "source": [
    "## To know more: \n",
    "\n",
    "* https://www.programiz.com/python-programming/global-keyword - global keywords\n",
    "\n",
    " * https://youtu.be/ngCDTEWVjrQ - about local & global variables\n",
    "\n",
    "* https://www.datacamp.com/community/tutorials/functions-python-tutorial \n",
    "* https://www.programiz.com/python-programming/user-defined-function \n",
    "* https://www.programiz.com/python-programming/methods/built-in \n",
    "* https://www.programiz.com/python-programming/global-local-nonlocal-variables \n"
   ]
  },
  {
   "cell_type": "code",
   "execution_count": 2,
   "metadata": {},
   "outputs": [
    {
     "name": "stdout",
     "output_type": "stream",
     "text": [
      "Note: you may need to restart the kernel to use updated packages.\n"
     ]
    },
    {
     "name": "stderr",
     "output_type": "stream",
     "text": [
      "ERROR: Could not find a version that satisfies the requirement calender (from versions: none)\n",
      "ERROR: No matching distribution found for calender\n"
     ]
    }
   ],
   "source": [
    "pip install calender"
   ]
  },
  {
   "cell_type": "code",
   "execution_count": 4,
   "metadata": {
    "id": "b-2N20aDgILd"
   },
   "outputs": [],
   "source": [
    "import calendar"
   ]
  },
  {
   "cell_type": "code",
   "execution_count": null,
   "metadata": {
    "id": "v2EfHNEigICZ"
   },
   "outputs": [],
   "source": []
  },
  {
   "cell_type": "code",
   "execution_count": null,
   "metadata": {
    "id": "WsJUX2v_gH7Z"
   },
   "outputs": [],
   "source": []
  }
 ],
 "metadata": {
  "colab": {
   "collapsed_sections": [],
   "name": "1. Functions_LI .ipynb",
   "version": ""
  },
  "kernelspec": {
   "display_name": "Python 3 (ipykernel)",
   "language": "python",
   "name": "python3"
  },
  "language_info": {
   "codemirror_mode": {
    "name": "ipython",
    "version": 3
   },
   "file_extension": ".py",
   "mimetype": "text/x-python",
   "name": "python",
   "nbconvert_exporter": "python",
   "pygments_lexer": "ipython3",
   "version": "3.10.9"
  }
 },
 "nbformat": 4,
 "nbformat_minor": 1
}
